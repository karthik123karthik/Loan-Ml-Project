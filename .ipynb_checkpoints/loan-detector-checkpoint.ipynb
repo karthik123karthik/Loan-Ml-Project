{
 "cells": [
  {
   "cell_type": "code",
   "execution_count": 1,
   "id": "7cbe179d",
   "metadata": {},
   "outputs": [],
   "source": [
    "import pandas as pd;\n",
    "import numpy as np;\n",
    "from sklearn.model_selection import train_test_split"
   ]
  },
  {
   "cell_type": "code",
   "execution_count": 2,
   "id": "24643c85",
   "metadata": {},
   "outputs": [],
   "source": [
    "df = pd.read_csv(\"loans.csv\")"
   ]
  },
  {
   "cell_type": "code",
   "execution_count": 3,
   "id": "bc2a36fb",
   "metadata": {},
   "outputs": [
    {
     "name": "stdout",
     "output_type": "stream",
     "text": [
      "Loan_ID               0\n",
      "Gender               13\n",
      "Married               3\n",
      "Dependents           15\n",
      "Education             0\n",
      "Self_Employed        32\n",
      "ApplicantIncome       0\n",
      "CoapplicantIncome     0\n",
      "LoanAmount           22\n",
      "Loan_Amount_Term     14\n",
      "Credit_History       50\n",
      "Property_Area         0\n",
      "Loan_Status           0\n",
      "dtype: int64\n"
     ]
    }
   ],
   "source": [
    "# check for null values\n",
    "print(df.isnull().sum())"
   ]
  },
  {
   "cell_type": "code",
   "execution_count": 4,
   "id": "541db5d4",
   "metadata": {},
   "outputs": [],
   "source": [
    "# drop the null values \n",
    "df = df.dropna();"
   ]
  },
  {
   "cell_type": "code",
   "execution_count": 5,
   "id": "e431dd8c",
   "metadata": {},
   "outputs": [],
   "source": [
    "# convert everything to numerical values\n",
    "df.replace({'Loan_Status':{'N':0, 'Y':1}, \n",
    "            'Gender':{'Male':0, 'Female':1},\n",
    "            'Married':{'Yes':1,'No':0},\n",
    "            'Education':{'Graduate':1, 'Not Graduate':0},\n",
    "           'Self_Employed':{'Yes':1, 'No':0},\n",
    "           'Property_Area':{'Urban':0, 'Rural':1, 'Semiurban':2}}, inplace=True);\n"
   ]
  },
  {
   "cell_type": "code",
   "execution_count": 6,
   "id": "e2689e7b",
   "metadata": {},
   "outputs": [
    {
     "name": "stdout",
     "output_type": "stream",
     "text": [
      "Dependents\n",
      "0    274\n",
      "2     85\n",
      "1     80\n",
      "4     41\n",
      "Name: count, dtype: int64\n"
     ]
    }
   ],
   "source": [
    "# dependent column have cells with value 3+ let us make it 4 to make computation easy\n",
    "df = df.replace(to_replace='3+', value=4);\n",
    "df['Dependents'] = df['Dependents'].astype(int)\n",
    "print(df['Dependents'].value_counts())"
   ]
  },
  {
   "cell_type": "code",
   "execution_count": 7,
   "id": "6bc1f578",
   "metadata": {},
   "outputs": [],
   "source": [
    "# extracting the features\n",
    "X_features = df.iloc[: , 1:12]\n",
    "Y = df['Loan_Status']"
   ]
  },
  {
   "cell_type": "code",
   "execution_count": 8,
   "id": "d2e8846b",
   "metadata": {},
   "outputs": [],
   "source": [
    "# converts array into numpy arrays\n",
    "X_features = X_features.to_numpy()\n",
    "Y = Y.to_numpy()"
   ]
  },
  {
   "cell_type": "code",
   "execution_count": 9,
   "id": "fface22e",
   "metadata": {},
   "outputs": [
    {
     "name": "stdout",
     "output_type": "stream",
     "text": [
      "dimensions of feature and the outputs are : (480, 11) and (480,)\n"
     ]
    }
   ],
   "source": [
    "print(f\"dimensions of feature and the outputs are : {X_features.shape} and {Y.shape}\");"
   ]
  },
  {
   "cell_type": "code",
   "execution_count": 10,
   "id": "6cffb7a8",
   "metadata": {},
   "outputs": [],
   "source": [
    "# split data into test and training set\n",
    "X_train, X_test, y_train, y_test = train_test_split(X_features, Y, test_size=0.2, random_state=42)"
   ]
  },
  {
   "cell_type": "code",
   "execution_count": 28,
   "id": "ac8880bc",
   "metadata": {},
   "outputs": [],
   "source": [
    "# sigmoid function\n",
    "def sigmoid(z):\n",
    "    '''\n",
    "      returns predicted value for the given z\n",
    "    '''\n",
    "    z = np.clip(z, -500, 500)\n",
    "    denominator = 1 + np.exp(-1*z)\n",
    "    g = 1 / denominator\n",
    "    \n",
    "    return g"
   ]
  },
  {
   "cell_type": "code",
   "execution_count": 17,
   "id": "b0ee64f5",
   "metadata": {},
   "outputs": [],
   "source": [
    "# cost function\n",
    "def compute_cost(X, Y, W, b):\n",
    "    ''' returns the loss for given parameters W and b'''\n",
    "    \n",
    "    m, n = X.shape\n",
    "    \n",
    "    J_Wb = 0    \n",
    "    for i in range(m):\n",
    "        z_i = np.dot(X[i], W) + b\n",
    "        f_x = sigmoid(z_i)\n",
    "        loss_i = -1 * Y[i]*np.log(f_x + 1e-10) - (1 - Y[i])*np.log(1 - f_x + 1e-10)\n",
    "        J_Wb += loss_i\n",
    "    \n",
    "    J_Wb = J_Wb/m    \n",
    "    return J_Wb"
   ]
  },
  {
   "cell_type": "code",
   "execution_count": 21,
   "id": "8829a70b",
   "metadata": {},
   "outputs": [],
   "source": [
    "# gradient of the cost function\n",
    "def compute_gradient(X, Y, W, b):\n",
    "    ''' returns the gradient of the cost wrt to W and b'''\n",
    "    m,n = X.shape\n",
    "    dj_dw = np.zeros(n)\n",
    "    dj_db = 0\n",
    "    \n",
    "    for i in range(m):\n",
    "        z_i = np.dot(W, X[i])\n",
    "        f_xi = sigmoid(z_i)\n",
    "        loss = (f_xi - Y[i])\n",
    "        for j in range(n):\n",
    "            dj_dw[j] +=  loss * X[i][j]\n",
    "        dj_db += loss\n",
    "    \n",
    "    dj_dw = dj_dw / m\n",
    "    dj_db = dj_db / m\n",
    "    \n",
    "    return dj_dw, dj_db"
   ]
  },
  {
   "cell_type": "code",
   "execution_count": 22,
   "id": "091eb07c",
   "metadata": {},
   "outputs": [
    {
     "name": "stdout",
     "output_type": "stream",
     "text": [
      "the gradient descent values are [-2.60416667e-02 -1.41927083e-01 -1.54947917e-01 -1.58854167e-01\n",
      " -2.21354167e-02 -8.98291667e+02 -2.35537656e+02 -2.41536458e+01\n",
      " -6.37656250e+01 -2.46093750e-01 -2.47395833e-01] and -0.1875\n"
     ]
    }
   ],
   "source": [
    "initial_w = np.zeros(X_train.shape[1])\n",
    "b = 100\n",
    "dj_dw, dj_db = compute_gradient(X_train, y_train, initial_w, b);\n",
    "print(f\"the gradient descent values are {dj_dw} and {dj_db}\");"
   ]
  },
  {
   "cell_type": "code",
   "execution_count": 26,
   "id": "0350de73",
   "metadata": {},
   "outputs": [],
   "source": [
    "# gradient descent algorithm\n",
    "def gradient_descent(X, Y, W, b, alpha, numiters):\n",
    "    ''' computes the gradient descent '''\n",
    "    m,n = X.shape\n",
    "    J_history = []\n",
    "    W_history = []\n",
    "    \n",
    "    for i in range(numiters):\n",
    "        dj_dw, dj_db = compute_gradient(X,Y,W,b)\n",
    "        W = W - alpha * dj_dw\n",
    "        Y = Y - alpha * dj_db\n",
    "        cost = compute_cost(X,Y,W,b)\n",
    "        if i<10000:\n",
    "            J_history.append(cost)\n",
    "            W_history.append(W)\n",
    "        if i%1000 == 0:\n",
    "            print(f\"cost for {i}th iteration is {J_history[-1]}\");\n",
    "    return W,b, J_history, W_history"
   ]
  },
  {
   "cell_type": "code",
   "execution_count": null,
   "id": "a699e5fc",
   "metadata": {},
   "outputs": [],
   "source": [
    "W,b, J_history, W_history = gradient_descent(X_train, y_train, initial_w, b, 0.0001, 10000);"
   ]
  },
  {
   "cell_type": "code",
   "execution_count": null,
   "id": "d54f4bcb",
   "metadata": {},
   "outputs": [],
   "source": []
  }
 ],
 "metadata": {
  "kernelspec": {
   "display_name": "Python 3 (ipykernel)",
   "language": "python",
   "name": "python3"
  },
  "language_info": {
   "codemirror_mode": {
    "name": "ipython",
    "version": 3
   },
   "file_extension": ".py",
   "mimetype": "text/x-python",
   "name": "python",
   "nbconvert_exporter": "python",
   "pygments_lexer": "ipython3",
   "version": "3.11.1"
  }
 },
 "nbformat": 4,
 "nbformat_minor": 5
}
