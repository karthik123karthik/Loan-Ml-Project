{
 "cells": [
  {
   "cell_type": "code",
   "execution_count": 1,
   "id": "7cbe179d",
   "metadata": {},
   "outputs": [],
   "source": [
    "import pandas as pd;\n",
    "import numpy as np;\n",
    "from sklearn.model_selection import train_test_split"
   ]
  },
  {
   "cell_type": "code",
   "execution_count": 2,
   "id": "24643c85",
   "metadata": {},
   "outputs": [],
   "source": [
    "df = pd.read_csv(\"loans.csv\")"
   ]
  },
  {
   "cell_type": "code",
   "execution_count": 3,
   "id": "bc2a36fb",
   "metadata": {},
   "outputs": [
    {
     "name": "stdout",
     "output_type": "stream",
     "text": [
      "Loan_ID               0\n",
      "Gender               13\n",
      "Married               3\n",
      "Dependents           15\n",
      "Education             0\n",
      "Self_Employed        32\n",
      "ApplicantIncome       0\n",
      "CoapplicantIncome     0\n",
      "LoanAmount           22\n",
      "Loan_Amount_Term     14\n",
      "Credit_History       50\n",
      "Property_Area         0\n",
      "Loan_Status           0\n",
      "dtype: int64\n"
     ]
    }
   ],
   "source": [
    "# check for null values\n",
    "print(df.isnull().sum())"
   ]
  },
  {
   "cell_type": "code",
   "execution_count": 4,
   "id": "541db5d4",
   "metadata": {},
   "outputs": [],
   "source": [
    "# drop the null values \n",
    "df = df.dropna();"
   ]
  },
  {
   "cell_type": "code",
   "execution_count": 5,
   "id": "e431dd8c",
   "metadata": {},
   "outputs": [],
   "source": [
    "# convert everything to numerical values\n",
    "df.replace({'Loan_Status':{'N':0, 'Y':1}, \n",
    "            'Gender':{'Male':0, 'Female':1},\n",
    "            'Married':{'Yes':1,'No':0},\n",
    "            'Education':{'Graduate':1, 'Not Graduate':0},\n",
    "           'Self_Employed':{'Yes':1, 'No':0},\n",
    "           'Property_Area':{'Urban':0, 'Rural':1, 'Semiurban':2}}, inplace=True);"
   ]
  },
  {
   "cell_type": "code",
   "execution_count": 6,
   "id": "e2689e7b",
   "metadata": {},
   "outputs": [
    {
     "name": "stdout",
     "output_type": "stream",
     "text": [
      "Dependents\n",
      "0    274\n",
      "2     85\n",
      "1     80\n",
      "4     41\n",
      "Name: count, dtype: int64\n"
     ]
    }
   ],
   "source": [
    "# dependent column have cells with value 3+ let us make it 4 to make computation easy\n",
    "df = df.replace(to_replace='3+', value=4);\n",
    "print(df['Dependents'].value_counts())"
   ]
  },
  {
   "cell_type": "code",
   "execution_count": 7,
   "id": "6bc1f578",
   "metadata": {},
   "outputs": [],
   "source": [
    "# extracting the features\n",
    "X_features = df.iloc[: , 1:12]\n",
    "Y = df['Loan_Status']"
   ]
  },
  {
   "cell_type": "code",
   "execution_count": 8,
   "id": "d2e8846b",
   "metadata": {},
   "outputs": [],
   "source": [
    "# converts array into numpy arrays\n",
    "X_features = X_features.to_numpy()\n",
    "Y = Y.to_numpy()"
   ]
  },
  {
   "cell_type": "code",
   "execution_count": 9,
   "id": "fface22e",
   "metadata": {},
   "outputs": [
    {
     "name": "stdout",
     "output_type": "stream",
     "text": [
      "dimensions of feature and the outputs are : (480, 11) and (480,)\n"
     ]
    }
   ],
   "source": [
    "print(f\"dimensions of feature and the outputs are : {X_features.shape} and {Y.shape}\");"
   ]
  },
  {
   "cell_type": "code",
   "execution_count": 11,
   "id": "6cffb7a8",
   "metadata": {},
   "outputs": [],
   "source": [
    "# split data into test and training set\n",
    "X_train, X_test, y_train, y_test = train_test_split(X_features, Y, test_size=0.2, random_state=42)"
   ]
  },
  {
   "cell_type": "code",
   "execution_count": null,
   "id": "ac8880bc",
   "metadata": {},
   "outputs": [],
   "source": []
  }
 ],
 "metadata": {
  "kernelspec": {
   "display_name": "Python 3 (ipykernel)",
   "language": "python",
   "name": "python3"
  },
  "language_info": {
   "codemirror_mode": {
    "name": "ipython",
    "version": 3
   },
   "file_extension": ".py",
   "mimetype": "text/x-python",
   "name": "python",
   "nbconvert_exporter": "python",
   "pygments_lexer": "ipython3",
   "version": "3.11.1"
  }
 },
 "nbformat": 4,
 "nbformat_minor": 5
}
